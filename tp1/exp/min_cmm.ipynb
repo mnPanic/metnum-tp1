{
 "cells": [
  {
   "cell_type": "markdown",
   "metadata": {},
   "source": [
    "# Heuristicas"
   ]
  },
  {
   "cell_type": "code",
   "execution_count": 56,
   "metadata": {},
   "outputs": [],
   "source": [
    "import utils\n",
    "import pandas as pd\n",
    "import seaborn as sns\n",
    "from typing import List\n",
    "import simulator\n",
    "import numpy as np\n",
    "import copy\n",
    "\n",
    "DATA = \"../data/sim.dat\"\n",
    "HEUR = \"../data/sim.heuristic.dat\"\n",
    "POWERS = \"../data/sim_powers.tsv\""
   ]
  },
  {
   "cell_type": "code",
   "execution_count": 2,
   "metadata": {},
   "outputs": [],
   "source": [
    "def read_powers() -> pd.DataFrame:\n",
    "    return pd.read_csv(\n",
    "        POWERS,\n",
    "        sep=' ',\n",
    "        header=None,\n",
    "        names=[\"team\", \"power\"],\n",
    "    )\n",
    "\n",
    "def read_sim_ranking(path: str) -> pd.DataFrame:\n",
    "    powers = read_powers()\n",
    "    ranking = utils.read_ranking(path)\n",
    "    ranking[\"power\"] = (ranking.index + 1).map(powers.set_index(\"team\")[\"power\"])\n",
    "    ranking[\"team\"] = (ranking.index+1)\n",
    "    return ranking"
   ]
  },
  {
   "cell_type": "code",
   "execution_count": 3,
   "metadata": {},
   "outputs": [],
   "source": [
    "def games2cmm(games: List[simulator.Game], teams):\n",
    "    b = np.zeros((1,teams))[0]\n",
    "    cmm = np.zeros(shape=(teams, teams))\n",
    "    \n",
    "    for game in games:\n",
    "        cmm[game.team1-1][game.team2-1]-=1\n",
    "        cmm[game.team2-1][game.team1-1]-=1\n",
    "        cmm[game.team2-1][game.team2-1]+=1\n",
    "        cmm[game.team1-1][game.team1-1]+=1\n",
    "        if game.goals1 > game.goals2:\n",
    "            b[game.team1-1]+=1\n",
    "            b[game.team2-1]-=1\n",
    "        else:\n",
    "            b[game.team1-1]-=1\n",
    "            b[game.team2-1]+=1\n",
    "\n",
    "    for i in range(0,teams):\n",
    "        cmm[i][i] += 2\n",
    "        b[i] /= 2\n",
    "        b[i] += 1\n",
    "            \n",
    "    return np.linalg.solve(cmm,b)"
   ]
  },
  {
   "cell_type": "code",
   "execution_count": 106,
   "metadata": {},
   "outputs": [],
   "source": [
    "PLAYER = 3\n",
    "def rank_and_worst(player, games, teams) -> (int, int):\n",
    "    ratings = games2cmm(games, teams)\n",
    "    rank = sum(ratings > ratings[player-1])\n",
    "    worst_rating = ratings[0]\n",
    "    worst_player_index = 0\n",
    "    \n",
    "    #print(\"r:\",ratings[PLAYER-1])\n",
    "    for i in range(len(ratings)):\n",
    "        if ratings[i] < worst_rating:\n",
    "            worst_player_index = i\n",
    "    \n",
    "    return rank,worst_player_index +1\n",
    "\n",
    "def lose_against(player1, player2, games):\n",
    "    aux = copy.deepcopy(games)\n",
    "    \n",
    "    for i in range(len(aux)):\n",
    "        if ((aux[i].team1 == player1 and\n",
    "            aux[i].team2 == player2 and \n",
    "            aux[i].goals1 > aux[i].goals2) or \n",
    "            (aux[i].team1 == player2 and\n",
    "            aux[i].team2 == player1 and\n",
    "            aux[i].goals2 > aux[i].goals1)):\n",
    "            \n",
    "            aux[i].goals1, aux[i].goals2 = aux[i].goals2, aux[i].goals1\n",
    "            break\n",
    "            \n",
    "    return aux\n",
    "\n",
    "def min_cmm(games: List[simulator.Game], teams, selected) -> List[simulator.Game]:\n",
    "    old_games = games.copy()\n",
    "    current_games = games.copy()\n",
    "    #print(\"first:\",old_games)\n",
    "    for i in range(len(current_games)): #Cambiar\n",
    "        old_games = current_games.copy()\n",
    "        rank,worst_player = rank_and_worst(selected, current_games, len(teams))\n",
    "\n",
    "        #for g in current_games:\n",
    "        #    if (g.team1 == PLAYER and g.team2 == worst_player or\n",
    "        #       g.team2 == PLAYER and g.team1 == worst_player):\n",
    "        #        print(g)\n",
    "        \n",
    "        \n",
    "        current_games = lose_against(selected, worst_player, old_games)\n",
    "        \n",
    "        #print(\"Third:\",old_games)\n",
    "\n",
    "        #print(old_games)\n",
    "        #print(\"Fourth:\",current_games)\n",
    "        \n",
    "        #print(\"-----------\")\n",
    "        #for g in current_games:\n",
    "        #    if (g.team1 == PLAYER and g.team2 == worst_player or\n",
    "        #       g.team2== PLAYER and g.team1 == worst_player):\n",
    "        #        print(g)\n",
    "                \n",
    "        new_ratings = games2cmm(current_games, len(teams))\n",
    "        new_rank = sum(new_ratings > new_ratings[selected-1])\n",
    "        if (new_rank > rank):\n",
    "            #print(\"old_games:\",old_games)\n",
    "            #print(\"current:\",current_games)\n",
    "            break\n",
    "    return old_games"
   ]
  },
  {
   "cell_type": "code",
   "execution_count": 107,
   "metadata": {},
   "outputs": [],
   "source": [
    "TEAM = 20\n",
    "ITER = 500\n",
    "ratings = []\n",
    "\n",
    "#for i in range(ITER):\n",
    "#if i % 100 == 0: print(i)\n",
    "\n",
    "#simulator.simulate(games_against_each=1,goals_per_game=500,team_count=5)\n",
    "#utils.run(DATA, utils.METHOD_CMM)\n",
    "#df1 = read_sim_ranking(DATA+utils.METHOD_CMM+utils.OUT)\n",
    "#df = utils.analyze_data(DATA)\n",
    "#df"
   ]
  },
  {
   "cell_type": "code",
   "execution_count": 108,
   "metadata": {},
   "outputs": [],
   "source": [
    "#df1"
   ]
  },
  {
   "cell_type": "code",
   "execution_count": 113,
   "metadata": {},
   "outputs": [],
   "source": [
    "simulator.simulate(games_against_each=1,goals_per_game=500,team_count=4,heuristic=min_cmm)\n",
    "utils.run(HEUR, utils.METHOD_CMM)\n",
    "#utils.run(DATA, utils.METHOD_CMM)\n",
    "#rankings_data = utils.analyze_data(DATA)\n",
    "rakings_heur = utils.analyze_data(HEUR)\n",
    "#ratings_data = read_sim_ranking(DATA+utils.METHOD_CMM+utils.OUT)\n",
    "ratings_heur = read_sim_ranking(HEUR+utils.METHOD_CMM+utils.OUT)\n",
    "\n",
    "#df = read_sim_ranking(HEUR+utils.METHOD_CMM+utils.OUT).sort_values(\"rating\", ascending=False)\n",
    "#df"
   ]
  },
  {
   "cell_type": "code",
   "execution_count": 114,
   "metadata": {},
   "outputs": [
    {
     "data": {
      "text/html": [
       "<div>\n",
       "<style scoped>\n",
       "    .dataframe tbody tr th:only-of-type {\n",
       "        vertical-align: middle;\n",
       "    }\n",
       "\n",
       "    .dataframe tbody tr th {\n",
       "        vertical-align: top;\n",
       "    }\n",
       "\n",
       "    .dataframe thead th {\n",
       "        text-align: right;\n",
       "    }\n",
       "</style>\n",
       "<table border=\"1\" class=\"dataframe\">\n",
       "  <thead>\n",
       "    <tr style=\"text-align: right;\">\n",
       "      <th></th>\n",
       "      <th>rating</th>\n",
       "      <th>power</th>\n",
       "      <th>team</th>\n",
       "    </tr>\n",
       "  </thead>\n",
       "  <tbody>\n",
       "    <tr>\n",
       "      <th>0</th>\n",
       "      <td>0.416667</td>\n",
       "      <td>26</td>\n",
       "      <td>1</td>\n",
       "    </tr>\n",
       "    <tr>\n",
       "      <th>1</th>\n",
       "      <td>0.416667</td>\n",
       "      <td>51</td>\n",
       "      <td>2</td>\n",
       "    </tr>\n",
       "    <tr>\n",
       "      <th>2</th>\n",
       "      <td>0.416667</td>\n",
       "      <td>76</td>\n",
       "      <td>3</td>\n",
       "    </tr>\n",
       "    <tr>\n",
       "      <th>3</th>\n",
       "      <td>0.750000</td>\n",
       "      <td>101</td>\n",
       "      <td>4</td>\n",
       "    </tr>\n",
       "  </tbody>\n",
       "</table>\n",
       "</div>"
      ],
      "text/plain": [
       "     rating  power  team\n",
       "0  0.416667     26     1\n",
       "1  0.416667     51     2\n",
       "2  0.416667     76     3\n",
       "3  0.750000    101     4"
      ]
     },
     "execution_count": 114,
     "metadata": {},
     "output_type": "execute_result"
    }
   ],
   "source": [
    "ratings_heur"
   ]
  },
  {
   "cell_type": "code",
   "execution_count": 115,
   "metadata": {},
   "outputs": [
    {
     "data": {
      "text/html": [
       "<div>\n",
       "<style scoped>\n",
       "    .dataframe tbody tr th:only-of-type {\n",
       "        vertical-align: middle;\n",
       "    }\n",
       "\n",
       "    .dataframe tbody tr th {\n",
       "        vertical-align: top;\n",
       "    }\n",
       "\n",
       "    .dataframe thead th {\n",
       "        text-align: right;\n",
       "    }\n",
       "</style>\n",
       "<table border=\"1\" class=\"dataframe\">\n",
       "  <thead>\n",
       "    <tr style=\"text-align: right;\">\n",
       "      <th></th>\n",
       "      <th>team</th>\n",
       "      <th>share</th>\n",
       "      <th>total</th>\n",
       "      <th>wins</th>\n",
       "      <th>participation</th>\n",
       "    </tr>\n",
       "  </thead>\n",
       "  <tbody>\n",
       "    <tr>\n",
       "      <th>0</th>\n",
       "      <td>1.0</td>\n",
       "      <td>1.0</td>\n",
       "      <td>3.0</td>\n",
       "      <td>1.0</td>\n",
       "      <td>1.0</td>\n",
       "    </tr>\n",
       "    <tr>\n",
       "      <th>1</th>\n",
       "      <td>2.0</td>\n",
       "      <td>1.0</td>\n",
       "      <td>3.0</td>\n",
       "      <td>1.0</td>\n",
       "      <td>1.0</td>\n",
       "    </tr>\n",
       "    <tr>\n",
       "      <th>2</th>\n",
       "      <td>3.0</td>\n",
       "      <td>1.0</td>\n",
       "      <td>3.0</td>\n",
       "      <td>1.0</td>\n",
       "      <td>1.0</td>\n",
       "    </tr>\n",
       "    <tr>\n",
       "      <th>3</th>\n",
       "      <td>4.0</td>\n",
       "      <td>1.0</td>\n",
       "      <td>3.0</td>\n",
       "      <td>3.0</td>\n",
       "      <td>1.0</td>\n",
       "    </tr>\n",
       "  </tbody>\n",
       "</table>\n",
       "</div>"
      ],
      "text/plain": [
       "   team  share  total  wins  participation\n",
       "0   1.0    1.0    3.0   1.0            1.0\n",
       "1   2.0    1.0    3.0   1.0            1.0\n",
       "2   3.0    1.0    3.0   1.0            1.0\n",
       "3   4.0    1.0    3.0   3.0            1.0"
      ]
     },
     "execution_count": 115,
     "metadata": {},
     "output_type": "execute_result"
    }
   ],
   "source": [
    "rakings_heur"
   ]
  },
  {
   "cell_type": "code",
   "execution_count": 10,
   "metadata": {},
   "outputs": [
    {
     "ename": "NameError",
     "evalue": "name 'ratings_data' is not defined",
     "output_type": "error",
     "traceback": [
      "\u001b[0;31m---------------------------------------------------------------------------\u001b[0m",
      "\u001b[0;31mNameError\u001b[0m                                 Traceback (most recent call last)",
      "\u001b[0;32m<ipython-input-10-5ff8a9050964>\u001b[0m in \u001b[0;36m<module>\u001b[0;34m\u001b[0m\n\u001b[0;32m----> 1\u001b[0;31m \u001b[0mratings_data\u001b[0m\u001b[0;34m\u001b[0m\u001b[0;34m\u001b[0m\u001b[0m\n\u001b[0m",
      "\u001b[0;31mNameError\u001b[0m: name 'ratings_data' is not defined"
     ]
    }
   ],
   "source": [
    "ratings_data"
   ]
  },
  {
   "cell_type": "code",
   "execution_count": null,
   "metadata": {},
   "outputs": [],
   "source": [
    "ratings_heur"
   ]
  },
  {
   "cell_type": "code",
   "execution_count": null,
   "metadata": {},
   "outputs": [],
   "source": []
  }
 ],
 "metadata": {
  "kernelspec": {
   "display_name": "Python 3",
   "language": "python",
   "name": "python3"
  },
  "language_info": {
   "codemirror_mode": {
    "name": "ipython",
    "version": 3
   },
   "file_extension": ".py",
   "mimetype": "text/x-python",
   "name": "python",
   "nbconvert_exporter": "python",
   "pygments_lexer": "ipython3",
   "version": "3.8.2"
  }
 },
 "nbformat": 4,
 "nbformat_minor": 4
}
