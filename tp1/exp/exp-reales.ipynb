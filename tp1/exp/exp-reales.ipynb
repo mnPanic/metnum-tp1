{
 "cells": [
  {
   "cell_type": "markdown",
   "metadata": {},
   "source": [
    "# Experimentación con datos reales"
   ]
  },
  {
   "cell_type": "code",
   "execution_count": 1,
   "metadata": {},
   "outputs": [],
   "source": [
    "# Imports\n",
    "import subprocess\n",
    "import pandas as pd # un clasicos\n",
    "import seaborn as sns\n",
    "import matplotlib.pyplot as plt"
   ]
  },
  {
   "cell_type": "code",
   "execution_count": 66,
   "metadata": {},
   "outputs": [],
   "source": [
    "DATA_DIR = \"../data/\"\n",
    "NBA_SCORES = DATA_DIR + \"nba_2016_scores.dat\"\n",
    "ATP_SCORES = DATA_DIR + \"atp_matches_2015.dat\"\n",
    "NBA_TEAMS = DATA_DIR + \"nba_2016_teams.csv\"\n",
    "ATP_NAMES = DATA_DIR + \"atp_players.csv\"\n",
    "OUT = \".out\"\n",
    "BIN = \"../src/tp\"\n",
    "TYPE_WP = \"1\"\n",
    "TYPE_CMM = \"0\""
   ]
  },
  {
   "cell_type": "code",
   "execution_count": 63,
   "metadata": {},
   "outputs": [],
   "source": [
    "def run(data: str, typ: str):\n",
    "    \"\"\"Runs a program and returns the output\"\"\"\n",
    "    print(f\"running {BIN} with input file {data}, type {typ}\")\n",
    "    # in out type\n",
    "    return subprocess.run([BIN, data, data+OUT, typ])"
   ]
  },
  {
   "cell_type": "code",
   "execution_count": 30,
   "metadata": {},
   "outputs": [],
   "source": [
    "def read_mn(path: str):\n",
    "    return pd.read_csv(\n",
    "        path,\n",
    "        sep=' ',\n",
    "        skiprows=2, # la primera row contiene cant teams y cant partidos\n",
    "        # Headers custom porque el formato de la catedra no lo tiene\n",
    "        header=None,\n",
    "        names=[\"date\", \"team1\", \"score1\", \"team2\", \"score2\"],\n",
    "    )\n",
    "\n",
    "def read_ranking(path: str):\n",
    "    return pd.read_csv(\n",
    "        path,\n",
    "        sep=' ',\n",
    "        header=None,\n",
    "        names=[\"rating\"],\n",
    "    )"
   ]
  },
  {
   "cell_type": "markdown",
   "metadata": {},
   "source": [
    "## Levantar los datos"
   ]
  },
  {
   "cell_type": "code",
   "execution_count": 64,
   "metadata": {},
   "outputs": [
    {
     "name": "stdout",
     "output_type": "stream",
     "text": [
      "running ../src/tp with input file ../data/nba_2016_scores.dat, type 0\n"
     ]
    },
    {
     "data": {
      "text/plain": [
       "CompletedProcess(args=['../src/tp', '../data/nba_2016_scores.dat', '../data/nba_2016_scores.dat.out', '0'], returncode=0)"
      ]
     },
     "execution_count": 64,
     "metadata": {},
     "output_type": "execute_result"
    }
   ],
   "source": [
    "run(NBA_SCORES, TYPE_CMM)"
   ]
  },
  {
   "cell_type": "code",
   "execution_count": 55,
   "metadata": {},
   "outputs": [
    {
     "data": {
      "text/html": [
       "<div>\n",
       "<style scoped>\n",
       "    .dataframe tbody tr th:only-of-type {\n",
       "        vertical-align: middle;\n",
       "    }\n",
       "\n",
       "    .dataframe tbody tr th {\n",
       "        vertical-align: top;\n",
       "    }\n",
       "\n",
       "    .dataframe thead th {\n",
       "        text-align: right;\n",
       "    }\n",
       "</style>\n",
       "<table border=\"1\" class=\"dataframe\">\n",
       "  <thead>\n",
       "    <tr style=\"text-align: right;\">\n",
       "      <th></th>\n",
       "      <th>rating</th>\n",
       "      <th>names</th>\n",
       "    </tr>\n",
       "  </thead>\n",
       "  <tbody>\n",
       "    <tr>\n",
       "      <th>22</th>\n",
       "      <td>0.150813</td>\n",
       "      <td>Philadelphia</td>\n",
       "    </tr>\n",
       "    <tr>\n",
       "      <th>13</th>\n",
       "      <td>0.236722</td>\n",
       "      <td>LA_Lakers</td>\n",
       "    </tr>\n",
       "    <tr>\n",
       "      <th>2</th>\n",
       "      <td>0.290736</td>\n",
       "      <td>Brooklyn</td>\n",
       "    </tr>\n",
       "    <tr>\n",
       "      <th>23</th>\n",
       "      <td>0.298952</td>\n",
       "      <td>Phoenix</td>\n",
       "    </tr>\n",
       "    <tr>\n",
       "      <th>17</th>\n",
       "      <td>0.319984</td>\n",
       "      <td>Minnesota</td>\n",
       "    </tr>\n",
       "    <tr>\n",
       "      <th>18</th>\n",
       "      <td>0.384521</td>\n",
       "      <td>New_Orleans</td>\n",
       "    </tr>\n",
       "    <tr>\n",
       "      <th>25</th>\n",
       "      <td>0.412817</td>\n",
       "      <td>Sacramento</td>\n",
       "    </tr>\n",
       "    <tr>\n",
       "      <th>19</th>\n",
       "      <td>0.414393</td>\n",
       "      <td>New_York</td>\n",
       "    </tr>\n",
       "    <tr>\n",
       "      <th>7</th>\n",
       "      <td>0.420858</td>\n",
       "      <td>Denver</td>\n",
       "    </tr>\n",
       "    <tr>\n",
       "      <th>21</th>\n",
       "      <td>0.432244</td>\n",
       "      <td>Orlando</td>\n",
       "    </tr>\n",
       "    <tr>\n",
       "      <th>16</th>\n",
       "      <td>0.435025</td>\n",
       "      <td>Milwaukee</td>\n",
       "    </tr>\n",
       "    <tr>\n",
       "      <th>29</th>\n",
       "      <td>0.483709</td>\n",
       "      <td>Washington</td>\n",
       "    </tr>\n",
       "    <tr>\n",
       "      <th>28</th>\n",
       "      <td>0.487206</td>\n",
       "      <td>Utah</td>\n",
       "    </tr>\n",
       "    <tr>\n",
       "      <th>8</th>\n",
       "      <td>0.500250</td>\n",
       "      <td>Detroit</td>\n",
       "    </tr>\n",
       "    <tr>\n",
       "      <th>6</th>\n",
       "      <td>0.502178</td>\n",
       "      <td>Dallas</td>\n",
       "    </tr>\n",
       "    <tr>\n",
       "      <th>10</th>\n",
       "      <td>0.511327</td>\n",
       "      <td>Houston</td>\n",
       "    </tr>\n",
       "    <tr>\n",
       "      <th>24</th>\n",
       "      <td>0.515941</td>\n",
       "      <td>Portland</td>\n",
       "    </tr>\n",
       "    <tr>\n",
       "      <th>4</th>\n",
       "      <td>0.516007</td>\n",
       "      <td>Chicago</td>\n",
       "    </tr>\n",
       "    <tr>\n",
       "      <th>11</th>\n",
       "      <td>0.547962</td>\n",
       "      <td>Indiana</td>\n",
       "    </tr>\n",
       "    <tr>\n",
       "      <th>3</th>\n",
       "      <td>0.558224</td>\n",
       "      <td>Charlotte</td>\n",
       "    </tr>\n",
       "    <tr>\n",
       "      <th>0</th>\n",
       "      <td>0.558822</td>\n",
       "      <td>Atlanta</td>\n",
       "    </tr>\n",
       "    <tr>\n",
       "      <th>14</th>\n",
       "      <td>0.563176</td>\n",
       "      <td>Memphis</td>\n",
       "    </tr>\n",
       "    <tr>\n",
       "      <th>1</th>\n",
       "      <td>0.565690</td>\n",
       "      <td>Boston</td>\n",
       "    </tr>\n",
       "    <tr>\n",
       "      <th>15</th>\n",
       "      <td>0.577367</td>\n",
       "      <td>Miami</td>\n",
       "    </tr>\n",
       "    <tr>\n",
       "      <th>12</th>\n",
       "      <td>0.629708</td>\n",
       "      <td>LA_Clippers</td>\n",
       "    </tr>\n",
       "    <tr>\n",
       "      <th>20</th>\n",
       "      <td>0.655552</td>\n",
       "      <td>Oklahoma_City</td>\n",
       "    </tr>\n",
       "    <tr>\n",
       "      <th>27</th>\n",
       "      <td>0.659347</td>\n",
       "      <td>Toronto</td>\n",
       "    </tr>\n",
       "    <tr>\n",
       "      <th>5</th>\n",
       "      <td>0.692428</td>\n",
       "      <td>Cleveland</td>\n",
       "    </tr>\n",
       "    <tr>\n",
       "      <th>26</th>\n",
       "      <td>0.803976</td>\n",
       "      <td>San_Antonio</td>\n",
       "    </tr>\n",
       "    <tr>\n",
       "      <th>9</th>\n",
       "      <td>0.874063</td>\n",
       "      <td>Golden_State</td>\n",
       "    </tr>\n",
       "  </tbody>\n",
       "</table>\n",
       "</div>"
      ],
      "text/plain": [
       "      rating           names\n",
       "22  0.150813    Philadelphia\n",
       "13  0.236722       LA_Lakers\n",
       "2   0.290736        Brooklyn\n",
       "23  0.298952         Phoenix\n",
       "17  0.319984       Minnesota\n",
       "18  0.384521     New_Orleans\n",
       "25  0.412817      Sacramento\n",
       "19  0.414393        New_York\n",
       "7   0.420858          Denver\n",
       "21  0.432244         Orlando\n",
       "16  0.435025       Milwaukee\n",
       "29  0.483709      Washington\n",
       "28  0.487206            Utah\n",
       "8   0.500250         Detroit\n",
       "6   0.502178          Dallas\n",
       "10  0.511327         Houston\n",
       "24  0.515941        Portland\n",
       "4   0.516007         Chicago\n",
       "11  0.547962         Indiana\n",
       "3   0.558224       Charlotte\n",
       "0   0.558822         Atlanta\n",
       "14  0.563176         Memphis\n",
       "1   0.565690          Boston\n",
       "15  0.577367           Miami\n",
       "12  0.629708     LA_Clippers\n",
       "20  0.655552   Oklahoma_City\n",
       "27  0.659347         Toronto\n",
       "5   0.692428       Cleveland\n",
       "26  0.803976     San_Antonio\n",
       "9   0.874063    Golden_State"
      ]
     },
     "execution_count": 55,
     "metadata": {},
     "output_type": "execute_result"
    }
   ],
   "source": [
    "ranking = read_ranking(NBA+OUT)\n",
    "names = pd.read_csv(NBA_TEAMS, sep=',', header=None, names=[\"idx\", \"name\"])\n",
    "names.head()\n",
    "\n",
    "# map https://stackoverflow.com/questions/59180942/pandas-mapping-one-column-values-using-other-dataframe-column\n",
    "ranking['names'] = (ranking.index + 1).map(names.set_index(\"idx\")[\"name\"])\n",
    "ranking.sort_values(\"rating\")"
   ]
  },
  {
   "cell_type": "code",
   "execution_count": 58,
   "metadata": {},
   "outputs": [
    {
     "data": {
      "text/plain": [
       "<matplotlib.axes._subplots.AxesSubplot at 0x7f25ba7e3f98>"
      ]
     },
     "execution_count": 58,
     "metadata": {},
     "output_type": "execute_result"
    },
    {
     "data": {
      "image/png": "[encoded data removed]",
      "text/plain": [
       "<Figure size 432x288 with 1 Axes>"
      ]
     },
     "metadata": {
      "needs_background": "light"
     },
     "output_type": "display_data"
    }
   ],
   "source": [
    "sns.distplot(ranking[\"rating\"])"
   ]
  },
  {
   "cell_type": "code",
   "execution_count": 67,
   "metadata": {},
   "outputs": [
    {
     "name": "stdout",
     "output_type": "stream",
     "text": [
      "running ../src/tp with input file ../data/atp_matches_2015.dat, type 0\n"
     ]
    },
    {
     "data": {
      "text/plain": [
       "CompletedProcess(args=['../src/tp', '../data/atp_matches_2015.dat', '../data/atp_matches_2015.dat.out', '0'], returncode=-11)"
      ]
     },
     "execution_count": 67,
     "metadata": {},
     "output_type": "execute_result"
    }
   ],
   "source": [
    "run(ATP_SCORES, TYPE_CMM)\n",
    "# ranking = read_ranking(ATP+OUT)\n",
    "# ranking"
   ]
  },
  {
   "cell_type": "code",
   "execution_count": null,
   "metadata": {},
   "outputs": [],
   "source": [
    "names = pd.read_csv(NBA_TEAMS, sep=',', header=None, names=[\"idx\", \"name\"])\n",
    "names.head()\n",
    "\n",
    "# map https://stackoverflow.com/questions/59180942/pandas-mapping-one-column-values-using-other-dataframe-column\n",
    "ranking['names'] = (ranking.index + 1).map(names.set_index(\"idx\")[\"name\"])\n",
    "ranking.sort_values(\"rating\")"
   ]
  }
 ],
 "metadata": {
  "kernelspec": {
   "display_name": "Python 3",
   "language": "python",
   "name": "python3"
  },
  "language_info": {
   "codemirror_mode": {
    "name": "ipython",
    "version": 3
   },
   "file_extension": ".py",
   "mimetype": "text/x-python",
   "name": "python",
   "nbconvert_exporter": "python",
   "pygments_lexer": "ipython3",
   "version": "3.6.9"
  }
 },
 "nbformat": 4,
 "nbformat_minor": 2
}
