{
 "cells": [
  {
   "cell_type": "markdown",
   "metadata": {},
   "source": [
    "# Experimentación"
   ]
  },
  {
   "cell_type": "code",
   "execution_count": 16,
   "metadata": {},
   "outputs": [],
   "source": [
    "# Imports\n",
    "import subprocess\n",
    "import seaborn as sns\n",
    "import matplotlib.pyplot as plt\n",
    "\n",
    "# Nuestros\n",
    "import utils"
   ]
  },
  {
   "cell_type": "code",
   "execution_count": 15,
   "metadata": {},
   "outputs": [],
   "source": [
    "# Files\n",
    "DATA_DIR = \"../data/\"\n",
    "NBA_SCORES = DATA_DIR + \"nba_2016_scores.dat\"\n",
    "ATP_SCORES = DATA_DIR + \"atp_matches_2015.dat.norm\"\n",
    "\n",
    "NBA_NAMES = DATA_DIR + \"nba_2016_teams.csv\"\n",
    "ATP_NAMES = DATA_DIR + \"atp_players.csv\"\n",
    "\n",
    "# Extension de resultados\n",
    "OUT = \".out\"\n",
    "\n",
    "# Binario del TP\n",
    "BIN = \"../src/tp\"\n",
    "\n",
    "# Metodos\n",
    "TYPE_WP = \"1\"\n",
    "TYPE_CMM = \"0\""
   ]
  },
  {
   "cell_type": "code",
   "execution_count": 17,
   "metadata": {},
   "outputs": [],
   "source": [
    "def analyze_data(path: str) -> pd.DataFrame:\n",
    "    df = read_mn(path)\n",
    "    \n",
    "    \n",
    "    teams = {} # {team : { \"percent\": percent played, \"total\": total played, \"played\": set of teams}}\n",
    "    \n",
    "    for i, row in df.iterrows():\n",
    "        date, team1, score1, team2, score2 = row\n",
    "        if team1 not in teams: teams[team1] = {\"total\": 0, \"opponents\": set()}\n",
    "        if team2 not in teams: teams[team2] = {\"total\": 0, \"opponents\": set()}\n",
    "\n",
    "\n",
    "        teams[team1][\"total\"] += 1\n",
    "        teams[team1][\"opponents\"].add(team2) # wont add if present\n",
    "        \n",
    "        teams[team2][\"total\"] += 1\n",
    "        teams[team2][\"opponents\"].add(team1) # wont add if present\n",
    "    \n",
    "    total_teams = len(teams)\n",
    "    \n",
    "    max_games_played = -1\n",
    "    for vals in teams.values():\n",
    "        if vals[\"total\"] > max_games_played:\n",
    "            max_games_played = vals[\"total\"]\n",
    "\n",
    "    data = pd.DataFrame(columns=[\"team\", \"share\", \"total\", \"participation\"])\n",
    "    for i, team in enumerate(teams.keys()):\n",
    "        # calculate %\n",
    "        teams[team][\"percent\"] = len(teams[team][\"opponents\"]) / (total_teams - 1)\n",
    "        teams[team][\"participation\"] = teams[team][\"total\"] / max_games_played\n",
    "        \n",
    "        # add to pandas dataframe\n",
    "        data.loc[i] = [team, teams[team][\"percent\"], teams[team][\"total\"], teams[team][\"participation\"]]\n",
    "    \n",
    "    return data"
   ]
  },
  {
   "cell_type": "markdown",
   "metadata": {},
   "source": [
    "## Datos reales"
   ]
  },
  {
   "cell_type": "markdown",
   "metadata": {},
   "source": [
    "### Analizar datos de entrada"
   ]
  },
  {
   "cell_type": "code",
   "execution_count": 5,
   "metadata": {},
   "outputs": [
    {
     "data": {
      "text/plain": [
       "(0.0, 1.0)"
      ]
     },
     "execution_count": 5,
     "metadata": {},
     "output_type": "execute_result"
    },
    {
     "data": {
      "image/png": "[encoded data removed]",
      "text/plain": [
       "<Figure size 432x432 with 3 Axes>"
      ]
     },
     "metadata": {
      "needs_background": "light"
     },
     "output_type": "display_data"
    }
   ],
   "source": [
    "df_atp = analyze_data(ATP_SCORES)\n",
    "#sns.scatterplot(df_nba[\"share\"], df_nba[\"total\"], size=)\n",
    "#sns.distplot(df_atp[\"share\"])\n",
    "\n",
    "#plot = sns.jointplot(df_atp[\"share\"], df_atp[\"total\"])\n",
    "plot = sns.jointplot(df_atp[\"share\"], df_atp[\"participation\"])\n",
    "plot.ax_marg_x.set_xlim(0, 1)\n",
    "plot.ax_marg_y.set_ylim(0, 1)"
   ]
  },
  {
   "cell_type": "code",
   "execution_count": 6,
   "metadata": {},
   "outputs": [
    {
     "data": {
      "text/html": [
       "<div>\n",
       "<style scoped>\n",
       "    .dataframe tbody tr th:only-of-type {\n",
       "        vertical-align: middle;\n",
       "    }\n",
       "\n",
       "    .dataframe tbody tr th {\n",
       "        vertical-align: top;\n",
       "    }\n",
       "\n",
       "    .dataframe thead th {\n",
       "        text-align: right;\n",
       "    }\n",
       "</style>\n",
       "<table border=\"1\" class=\"dataframe\">\n",
       "  <thead>\n",
       "    <tr style=\"text-align: right;\">\n",
       "      <th></th>\n",
       "      <th>team</th>\n",
       "      <th>share</th>\n",
       "      <th>total</th>\n",
       "      <th>participation</th>\n",
       "    </tr>\n",
       "  </thead>\n",
       "  <tbody>\n",
       "    <tr>\n",
       "      <th>0</th>\n",
       "      <td>5.0</td>\n",
       "      <td>1.0</td>\n",
       "      <td>65.0</td>\n",
       "      <td>0.955882</td>\n",
       "    </tr>\n",
       "    <tr>\n",
       "      <th>1</th>\n",
       "      <td>6.0</td>\n",
       "      <td>1.0</td>\n",
       "      <td>66.0</td>\n",
       "      <td>0.970588</td>\n",
       "    </tr>\n",
       "    <tr>\n",
       "      <th>2</th>\n",
       "      <td>10.0</td>\n",
       "      <td>1.0</td>\n",
       "      <td>66.0</td>\n",
       "      <td>0.970588</td>\n",
       "    </tr>\n",
       "    <tr>\n",
       "      <th>3</th>\n",
       "      <td>19.0</td>\n",
       "      <td>1.0</td>\n",
       "      <td>66.0</td>\n",
       "      <td>0.970588</td>\n",
       "    </tr>\n",
       "    <tr>\n",
       "      <th>4</th>\n",
       "      <td>30.0</td>\n",
       "      <td>1.0</td>\n",
       "      <td>66.0</td>\n",
       "      <td>0.970588</td>\n",
       "    </tr>\n",
       "  </tbody>\n",
       "</table>\n",
       "</div>"
      ],
      "text/plain": [
       "   team  share  total  participation\n",
       "0   5.0    1.0   65.0       0.955882\n",
       "1   6.0    1.0   66.0       0.970588\n",
       "2  10.0    1.0   66.0       0.970588\n",
       "3  19.0    1.0   66.0       0.970588\n",
       "4  30.0    1.0   66.0       0.970588"
      ]
     },
     "execution_count": 6,
     "metadata": {},
     "output_type": "execute_result"
    }
   ],
   "source": [
    "df_nba = analyze_data(NBA_SCORES)\n",
    "\n",
    "#plot = sns.jointplot(df_nba[\"share\"], df_nba[\"participation\"])\n",
    "df_nba.head()\n",
    "#plot.ax_marg_x.set_xlim(0, 1)\n",
    "#plot.ax_marg_y.set_ylim(0, 1)"
   ]
  },
  {
   "cell_type": "markdown",
   "metadata": {},
   "source": [
    "### Correr y levantar rankings reales resultantes"
   ]
  },
  {
   "cell_type": "code",
   "execution_count": 18,
   "metadata": {},
   "outputs": [
    {
     "name": "stdout",
     "output_type": "stream",
     "text": [
      "running ../src/tp with input file ../data/nba_2016_scores.dat, type 0\n",
      "running ../src/tp with input file ../data/nba_2016_scores.dat, type 1\n"
     ]
    }
   ],
   "source": [
    "run(NBA_SCORES, TYPE_CMM)\n",
    "run(NBA_SCORES, TYPE_WP)\n",
    "nba_cmm = read_ranking(NBA_SCORES+TYPE_CMM+OUT)\n",
    "nba_wp = read_ranking(NBA_SCORES+TYPE_WP+OUT)"
   ]
  },
  {
   "cell_type": "code",
   "execution_count": null,
   "metadata": {},
   "outputs": [],
   "source": []
  },
  {
   "cell_type": "code",
   "execution_count": 8,
   "metadata": {},
   "outputs": [],
   "source": [
    "#names = pd.read_csv(NBA_TEAMS, sep=',', header=None, names=[\"idx\", \"name\"])\n",
    "# map https://stackoverflow.com/questions/59180942/pandas-mapping-one-column-values-using-other-dataframe-column\n",
    "#ranking['names'] = (ranking.index + 1).map(names.set_index(\"idx\")[\"name\"])\n",
    "#ranking.sort_values(\"rating\")"
   ]
  },
  {
   "cell_type": "code",
   "execution_count": 19,
   "metadata": {},
   "outputs": [
    {
     "data": {
      "text/plain": [
       "<matplotlib.axes._subplots.AxesSubplot at 0x7f2c4e41ab70>"
      ]
     },
     "execution_count": 19,
     "metadata": {},
     "output_type": "execute_result"
    },
    {
     "data": {
      "image/png": "[encoded data removed]",
      "text/plain": [
       "<Figure size 432x288 with 1 Axes>"
      ]
     },
     "metadata": {
      "needs_background": "light"
     },
     "output_type": "display_data"
    }
   ],
   "source": [
    "sns.distplot(nba_cmm[\"rating\"])\n",
    "sns.distplot(nba_wp[\"rating\"])"
   ]
  },
  {
   "cell_type": "code",
   "execution_count": 20,
   "metadata": {},
   "outputs": [
    {
     "name": "stdout",
     "output_type": "stream",
     "text": [
      "running ../src/tp with input file ../data/atp_matches_2015.dat.norm, type 0\n",
      "running ../src/tp with input file ../data/atp_matches_2015.dat.norm, type 1\n"
     ]
    },
    {
     "data": {
      "text/plain": [
       "(0.0, 1.5121070378033967)"
      ]
     },
     "execution_count": 20,
     "metadata": {},
     "output_type": "execute_result"
    },
    {
     "data": {
      "image/png": "[encoded data removed]",
      "text/plain": [
       "<Figure size 432x288 with 1 Axes>"
      ]
     },
     "metadata": {
      "needs_background": "light"
     },
     "output_type": "display_data"
    }
   ],
   "source": [
    "run(ATP_SCORES, TYPE_CMM)\n",
    "run(ATP_SCORES, TYPE_WP)\n",
    "atp_cmm = read_ranking(ATP_SCORES+TYPE_CMM+OUT)\n",
    "atp_wp = read_ranking(ATP_SCORES+TYPE_WP+OUT)\n",
    "sns.distplot(atp_cmm[\"rating\"], label=\"pepe\")\n",
    "sns.distplot(atp_wp[\"rating\"])\n",
    "plt.xlim(0)"
   ]
  },
  {
   "cell_type": "code",
   "execution_count": 11,
   "metadata": {},
   "outputs": [],
   "source": [
    "#names = pd.read_csv(NBA_TEAMS, sep=',', header=None, names=[\"idx\", \"name\"])\n",
    "#names.head()\n",
    "\n",
    "# map https://stackoverflow.com/questions/59180942/pandas-mapping-one-column-values-using-other-dataframe-column\n",
    "#ranking['names'] = (ranking.index + 1).map(names.set_index(\"idx\")[\"name\"])\n",
    "#ranking.sort_values(\"rating\")"
   ]
  },
  {
   "cell_type": "markdown",
   "metadata": {},
   "source": [
    "## Justo"
   ]
  },
  {
   "cell_type": "markdown",
   "metadata": {},
   "source": [
    "## Simulacion"
   ]
  },
  {
   "cell_type": "markdown",
   "metadata": {},
   "source": [
    "### Generar datos"
   ]
  },
  {
   "cell_type": "code",
   "execution_count": 12,
   "metadata": {},
   "outputs": [
    {
     "name": "stdout",
     "output_type": "stream",
     "text": [
      "running ../src/tp with input file ../data/goven.dat, type 0\n"
     ]
    },
    {
     "data": {
      "text/html": [
       "<div>\n",
       "<style scoped>\n",
       "    .dataframe tbody tr th:only-of-type {\n",
       "        vertical-align: middle;\n",
       "    }\n",
       "\n",
       "    .dataframe tbody tr th {\n",
       "        vertical-align: top;\n",
       "    }\n",
       "\n",
       "    .dataframe thead th {\n",
       "        text-align: right;\n",
       "    }\n",
       "</style>\n",
       "<table border=\"1\" class=\"dataframe\">\n",
       "  <thead>\n",
       "    <tr style=\"text-align: right;\">\n",
       "      <th></th>\n",
       "      <th>rating</th>\n",
       "    </tr>\n",
       "  </thead>\n",
       "  <tbody>\n",
       "    <tr>\n",
       "      <th>2</th>\n",
       "      <td>0.666149</td>\n",
       "    </tr>\n",
       "    <tr>\n",
       "      <th>6</th>\n",
       "      <td>0.654947</td>\n",
       "    </tr>\n",
       "    <tr>\n",
       "      <th>1</th>\n",
       "      <td>0.579858</td>\n",
       "    </tr>\n",
       "    <tr>\n",
       "      <th>4</th>\n",
       "      <td>0.469610</td>\n",
       "    </tr>\n",
       "    <tr>\n",
       "      <th>5</th>\n",
       "      <td>0.464840</td>\n",
       "    </tr>\n",
       "    <tr>\n",
       "      <th>0</th>\n",
       "      <td>0.356477</td>\n",
       "    </tr>\n",
       "    <tr>\n",
       "      <th>3</th>\n",
       "      <td>0.308119</td>\n",
       "    </tr>\n",
       "  </tbody>\n",
       "</table>\n",
       "</div>"
      ],
      "text/plain": [
       "     rating\n",
       "2  0.666149\n",
       "6  0.654947\n",
       "1  0.579858\n",
       "4  0.469610\n",
       "5  0.464840\n",
       "0  0.356477\n",
       "3  0.308119"
      ]
     },
     "execution_count": 12,
     "metadata": {},
     "output_type": "execute_result"
    }
   ],
   "source": [
    "GOVEN = DATA_DIR + \"goven.dat\"\n",
    "GOVEN_NEW = DATA_DIR + \"goven_new.dat\"\n",
    "\n",
    "run(GOVEN, TYPE_CMM)\n",
    "goven = read_ranking(GOVEN+TYPE_CMM+OUT)\n",
    "goven.sort_values([\"rating\"], ascending=False)"
   ]
  },
  {
   "cell_type": "code",
   "execution_count": 21,
   "metadata": {},
   "outputs": [
    {
     "name": "stdout",
     "output_type": "stream",
     "text": [
      "running ../src/tp with input file ../data/goven_new.dat, type 0\n"
     ]
    },
    {
     "data": {
      "text/html": [
       "<div>\n",
       "<style scoped>\n",
       "    .dataframe tbody tr th:only-of-type {\n",
       "        vertical-align: middle;\n",
       "    }\n",
       "\n",
       "    .dataframe tbody tr th {\n",
       "        vertical-align: top;\n",
       "    }\n",
       "\n",
       "    .dataframe thead th {\n",
       "        text-align: right;\n",
       "    }\n",
       "</style>\n",
       "<table border=\"1\" class=\"dataframe\">\n",
       "  <thead>\n",
       "    <tr style=\"text-align: right;\">\n",
       "      <th></th>\n",
       "      <th>rating</th>\n",
       "    </tr>\n",
       "  </thead>\n",
       "  <tbody>\n",
       "    <tr>\n",
       "      <th>6</th>\n",
       "      <td>0.663281</td>\n",
       "    </tr>\n",
       "    <tr>\n",
       "      <th>3</th>\n",
       "      <td>0.602590</td>\n",
       "    </tr>\n",
       "    <tr>\n",
       "      <th>1</th>\n",
       "      <td>0.602082</td>\n",
       "    </tr>\n",
       "    <tr>\n",
       "      <th>4</th>\n",
       "      <td>0.530726</td>\n",
       "    </tr>\n",
       "    <tr>\n",
       "      <th>5</th>\n",
       "      <td>0.489843</td>\n",
       "    </tr>\n",
       "    <tr>\n",
       "      <th>0</th>\n",
       "      <td>0.386110</td>\n",
       "    </tr>\n",
       "    <tr>\n",
       "      <th>2</th>\n",
       "      <td>0.225368</td>\n",
       "    </tr>\n",
       "  </tbody>\n",
       "</table>\n",
       "</div>"
      ],
      "text/plain": [
       "     rating\n",
       "6  0.663281\n",
       "3  0.602590\n",
       "1  0.602082\n",
       "4  0.530726\n",
       "5  0.489843\n",
       "0  0.386110\n",
       "2  0.225368"
      ]
     },
     "execution_count": 21,
     "metadata": {},
     "output_type": "execute_result"
    }
   ],
   "source": [
    "run(GOVEN_NEW, TYPE_CMM)\n",
    "goven_new = read_ranking(GOVEN_NEW+TYPE_CMM+OUT)\n",
    "goven_new.sort_values([\"rating\"], ascending=False)"
   ]
  },
  {
   "cell_type": "code",
   "execution_count": null,
   "metadata": {},
   "outputs": [],
   "source": []
  }
 ],
 "metadata": {
  "kernelspec": {
   "display_name": "Python 3",
   "language": "python",
   "name": "python3"
  },
  "language_info": {
   "codemirror_mode": {
    "name": "ipython",
    "version": 3
   },
   "file_extension": ".py",
   "mimetype": "text/x-python",
   "name": "python",
   "nbconvert_exporter": "python",
   "pygments_lexer": "ipython3",
   "version": "3.6.9"
  }
 },
 "nbformat": 4,
 "nbformat_minor": 2
}
