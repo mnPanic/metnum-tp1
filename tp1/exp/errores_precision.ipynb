{
 "cells": [
  {
   "cell_type": "markdown",
   "metadata": {},
   "source": [
    "### Imports"
   ]
  },
  {
   "cell_type": "code",
   "execution_count": null,
   "metadata": {},
   "outputs": [],
   "source": [
    "import utils\n",
    "import numpy as np\n",
    "import seaborn as sns\n",
    "from typing import List\n",
    "import math\n",
    "import csv\n",
    "import pandas as pd\n",
    "\n",
    "from tqdm import tqdm"
   ]
  },
  {
   "cell_type": "markdown",
   "metadata": {},
   "source": [
    "### Functions"
   ]
  },
  {
   "cell_type": "code",
   "execution_count": null,
   "metadata": {},
   "outputs": [],
   "source": [
    "def rat2vec(path: str) -> List[float]:\n",
    "    vector = []\n",
    "    with open(path, 'r') as f:\n",
    "        for r in f:\n",
    "            vector.append(float(r))\n",
    "    return vector\n",
    "\n",
    "# Pre {len(r1) = len(r2)}\n",
    "def dist(v: List[float], w: List[float]) -> float:\n",
    "    res = 0\n",
    "    for i in range(len(v)):\n",
    "        res += (v[i]-w[i])**2\n",
    "    return math.sqrt(res)\n",
    "\n",
    "def games2cmm(path: str) -> List[float]:\n",
    "    with open(path, 'r') as f:\n",
    "        reader = csv.reader(f, delimiter=' ')\n",
    "        team_count = int(next(reader)[0])\n",
    "        \n",
    "        b = np.zeros((1,team_count))[0]\n",
    "        c = np.zeros(shape=(team_count, team_count))\n",
    "        \n",
    "        for row in reader:\n",
    "            _, team1, goals1, team2, goals2 = [int(x) for x in row]\n",
    "            c[team1-1][team2-1]-=1\n",
    "            c[team2-1][team1-1]-=1\n",
    "            c[team1-1][team1-1]+=1\n",
    "            c[team2-1][team2-1]+=1\n",
    "            if (goals1 > goals2):\n",
    "                b[team1-1] += 1\n",
    "                b[team2-1] -= 1\n",
    "            else:\n",
    "                b[team1-1] -= 1\n",
    "                b[team2-1] += 1\n",
    "                \n",
    "        for i in range(0,team_count):\n",
    "            c[i][i] += 2\n",
    "            b[i] /= 2\n",
    "            b[i] += 1\n",
    "        \n",
    "        return np.linalg.solve(c,b).tolist()"
   ]
  },
  {
   "cell_type": "markdown",
   "metadata": {},
   "source": [
    "### Run"
   ]
  },
  {
   "cell_type": "code",
   "execution_count": null,
   "metadata": {},
   "outputs": [],
   "source": [
    "EX = \".expected\"\n",
    "IN = \".in\"\n",
    "OUT = \".out\"\n",
    "CMM = '0'\n",
    "\n",
    "DIR_TEST = \"../src/tests/test_completos/\"\n",
    "DIR_RESULT = \"../data/\"\n",
    "\n",
    "tests = [\n",
    "    \"test_completo_1000_2\",\n",
    "    \"test_completo_1000_8\",\n",
    "    \"test_completo_100_4\",\n",
    "    \"test_completo_100_8\",\n",
    "    \"test_completo_10_1\",    \n",
    "]"
   ]
  },
  {
   "cell_type": "code",
   "execution_count": null,
   "metadata": {},
   "outputs": [],
   "source": [
    "df = pd.DataFrame(columns=[\"method\", \"difference\"])\n",
    "\n",
    "for test in tqdm(tests):\n",
    "    utils.run(path= DIR_TEST+test+IN, method=CMM, out= DIR_RESULT+test+OUT)\n",
    "    cmm = rat2vec(DIR_RESULT+test+OUT) \n",
    "    cat = rat2vec(DIR_TEST+test+EX)\n",
    "    lin = games2cmm(DIR_TEST+test+IN)\n",
    "    \n",
    "    df = df.append({\n",
    "        \"method\" : \"Nuestro\",\n",
    "        \"difference\" : dist(cmm, lin)\n",
    "    }, ignore_index=True)\n",
    "    \n",
    "    df = df.append({\n",
    "        \"method\" : \"Cátedra\",\n",
    "        \"difference\" : dist(cat, lin)\n",
    "    }, ignore_index=True)"
   ]
  },
  {
   "cell_type": "code",
   "execution_count": null,
   "metadata": {},
   "outputs": [],
   "source": [
    "df"
   ]
  },
  {
   "cell_type": "code",
   "execution_count": null,
   "metadata": {},
   "outputs": [],
   "source": [
    "sns.boxplot(data=df, x=\"method\", y=\"difference\")"
   ]
  },
  {
   "cell_type": "code",
   "execution_count": null,
   "metadata": {},
   "outputs": [],
   "source": [
    "utils.run(path=\"../src/tests/test1.in\", method='0', out=\"../data/test1.out\")\n",
    "\n",
    "u = rat2vec(\"../data/test1.out\")\n",
    "v = rat2vec(\"../src/tests/test1.expected\")\n",
    "w = games2cmm(\"../src/tests/test1.in\")\n",
    "\n",
    "print(\"Catedra:\",dist(v,w))\n",
    "print(\"Elim-Gaussiana:\",dist(u,w))"
   ]
  },
  {
   "cell_type": "code",
   "execution_count": null,
   "metadata": {},
   "outputs": [],
   "source": [
    "games2cmm(\"../src/tests/test2.in\")"
   ]
  },
  {
   "cell_type": "code",
   "execution_count": null,
   "metadata": {},
   "outputs": [],
   "source": []
  }
 ],
 "metadata": {
  "kernelspec": {
   "display_name": "Python 3",
   "language": "python",
   "name": "python3"
  },
  "language_info": {
   "codemirror_mode": {
    "name": "ipython",
    "version": 3
   },
   "file_extension": ".py",
   "mimetype": "text/x-python",
   "name": "python",
   "nbconvert_exporter": "python",
   "pygments_lexer": "ipython3",
   "version": "3.8.2"
  }
 },
 "nbformat": 4,
 "nbformat_minor": 4
}
