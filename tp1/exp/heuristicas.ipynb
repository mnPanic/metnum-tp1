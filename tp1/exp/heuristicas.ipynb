{
 "cells": [
  {
   "cell_type": "markdown",
   "metadata": {},
   "source": [
    "# Heuristicas"
   ]
  },
  {
   "cell_type": "code",
   "execution_count": 1,
   "metadata": {},
   "outputs": [],
   "source": [
    "import utils\n",
    "import simulator as sim\n",
    "import pandas as pd\n",
    "import seaborn as sns\n",
    "import matplotlib.pyplot as plt\n",
    "\n",
    "from tqdm import tqdm\n",
    "from typing import List\n",
    "\n",
    "DATA = \"../data/sim.dat\"\n",
    "POWERS = \"../data/sim_powers.tsv\""
   ]
  },
  {
   "cell_type": "code",
   "execution_count": 2,
   "metadata": {},
   "outputs": [],
   "source": [
    "def read_powers() -> pd.DataFrame:\n",
    "    return pd.read_csv(\n",
    "        POWERS,\n",
    "        sep=' ',\n",
    "        header=None,\n",
    "        names=[\"team\", \"power\"],\n",
    "    )\n",
    "\n",
    "def read_sim_ranking(path: str):\n",
    "    powers = read_powers()\n",
    "    ranking = utils.read_ranking(path)\n",
    "    ranking[\"power\"] = (ranking.index + 1).map(powers.set_index(\"team\")[\"power\"])\n",
    "    ranking[\"team\"] = (ranking.index+1)\n",
    "    return ranking"
   ]
  },
  {
   "cell_type": "code",
   "execution_count": 3,
   "metadata": {},
   "outputs": [
    {
     "data": {
      "text/plain": [
       "CompletedProcess(args=['../src/tp', '../data/sim.dat', '../data/sim.dat1.out', '1'], returncode=0)"
      ]
     },
     "execution_count": 3,
     "metadata": {},
     "output_type": "execute_result"
    }
   ],
   "source": [
    "utils.run(DATA, utils.METHOD_CMM)\n",
    "utils.run(DATA, utils.METHOD_WP)"
   ]
  },
  {
   "cell_type": "code",
   "execution_count": 4,
   "metadata": {},
   "outputs": [
    {
     "data": {
      "text/html": [
       "<div>\n",
       "<style scoped>\n",
       "    .dataframe tbody tr th:only-of-type {\n",
       "        vertical-align: middle;\n",
       "    }\n",
       "\n",
       "    .dataframe tbody tr th {\n",
       "        vertical-align: top;\n",
       "    }\n",
       "\n",
       "    .dataframe thead th {\n",
       "        text-align: right;\n",
       "    }\n",
       "</style>\n",
       "<table border=\"1\" class=\"dataframe\">\n",
       "  <thead>\n",
       "    <tr style=\"text-align: right;\">\n",
       "      <th></th>\n",
       "      <th>team</th>\n",
       "      <th>share</th>\n",
       "      <th>total</th>\n",
       "      <th>wins</th>\n",
       "      <th>participation</th>\n",
       "    </tr>\n",
       "  </thead>\n",
       "  <tbody>\n",
       "  </tbody>\n",
       "</table>\n",
       "</div>"
      ],
      "text/plain": [
       "Empty DataFrame\n",
       "Columns: [team, share, total, wins, participation]\n",
       "Index: []"
      ]
     },
     "execution_count": 4,
     "metadata": {},
     "output_type": "execute_result"
    }
   ],
   "source": [
    "utils.analyze_data(DATA)"
   ]
  },
  {
   "cell_type": "code",
   "execution_count": 29,
   "metadata": {},
   "outputs": [],
   "source": [
    "# HEURISTICAS\n",
    "SELECTED = 10\n",
    "\n",
    "def find(teams: List[sim.Team], t: int) -> sim.Team:\n",
    "    \"\"\"busca el equipo en la lista\"\"\"\n",
    "    for team in teams:\n",
    "        if(team.index == t):\n",
    "            return team\n",
    "    \n",
    "    return None\n",
    "\n",
    "def lose(g: sim.Game, t: int) -> sim.Game:\n",
    "    \"\"\"Hace que el team t pierda\"\"\"\n",
    "    if(g.team1 == t):\n",
    "        # make 2 win\n",
    "        g.score1 = 0\n",
    "        g.score2 = 1\n",
    "    elif (g.team2 == t):\n",
    "        # make 1 win\n",
    "        g.score2 = 0\n",
    "        g.score1 = 1\n",
    "    \n",
    "    return g\n",
    "\n",
    "def lose_worse(games: List[sim.Game], teams: List[sim.Team]) -> List[sim.Game]:\n",
    "    \"\"\"pierde contra la gente peor que el en skill\"\"\"\n",
    "    skill = find(teams, SELECTED).power\n",
    "    for i in range(len(games)):\n",
    "        other_idx = -1\n",
    "        game = games[i]\n",
    "        if(game.team1 == SELECTED):\n",
    "            other_idx = game.team2\n",
    "        elif(game.team2 == SELECTED):\n",
    "            other_idx = game.team1\n",
    "        else:\n",
    "            # no aparece en este juego\n",
    "            continue\n",
    "        \n",
    "        other_skill = find(teams, other_idx).power\n",
    "        if (other_skill >= skill):\n",
    "            # es mejor que nosotros, lo dejamos tal cual\n",
    "            continue\n",
    "\n",
    "        # hago que pierda\n",
    "        games[i] = lose(game, SELECTED)\n",
    "    \n",
    "    return games\n",
    "\n",
    "def lose_better(games: List[sim.Game], teams: List[sim.Team]) -> List[sim.Game]:\n",
    "    \"\"\"pierde contra la persona peor en skill\"\"\"\n",
    "    skill = find(teams, SELECTED).power\n",
    "    for i in range(len(games)):\n",
    "        other_idx = -1\n",
    "        game = games[i]\n",
    "        if(game.team1 == SELECTED):\n",
    "            other_idx = game.team2\n",
    "        elif(game.team2 == SELECTED):\n",
    "            other_idx = game.team1\n",
    "        else:\n",
    "            # no aparece en este juego\n",
    "            continue\n",
    "        \n",
    "        other_skill = find(teams, other_idx).power\n",
    "        if (other_skill < skill):\n",
    "            # es peor que nosotros, perdemos\n",
    "            continue\n",
    "\n",
    "        # hago que pierda\n",
    "        games[i] = lose(game, SELECTED)\n",
    "    \n",
    "    return games\n",
    "    "
   ]
  },
  {
   "cell_type": "code",
   "execution_count": 45,
   "metadata": {},
   "outputs": [
    {
     "name": "stderr",
     "output_type": "stream",
     "text": [
      "100%|██████████| 100/100 [00:07<00:00, 14.12it/s]\n",
      "100%|██████████| 100/100 [00:06<00:00, 14.53it/s]\n",
      "100%|██████████| 100/100 [00:06<00:00, 14.51it/s]"
     ]
    },
    {
     "name": "stdout",
     "output_type": "stream",
     "text": [
      "Done!\n"
     ]
    },
    {
     "name": "stderr",
     "output_type": "stream",
     "text": [
      "\n"
     ]
    }
   ],
   "source": [
    "# iterar e imprimir boxplot\n",
    "TEAM_COUNT = 10\n",
    "ITER = 100\n",
    "\n",
    "heuristics = [\n",
    "    {\"fn\": lose_better, \"name\": \"lose_better\"},\n",
    "    {\"fn\": lose_worse,  \"name\": \"lose_worse\"},\n",
    "    {\"fn\": None,        \"name\": \"control\"},\n",
    "]\n",
    "\n",
    "DATA_FMT = \"../data/sim.{}.dat\"\n",
    "RANKING_FMT = DATA_FMT+utils.OUT\n",
    "\n",
    "results = pd.DataFrame(columns=[\"rating\", \"ranking\", \"wins\", \"heuristic\"])\n",
    "\n",
    "for h_i, h in enumerate(heuristics, start=1):\n",
    "    data = DATA_FMT.format(h[\"name\"])\n",
    "    ranks = RANKING_FMT.format(h[\"name\"])\n",
    "    heuristic = h[\"fn\"]\n",
    "\n",
    "    for i in tqdm(range(ITER)):\n",
    "        # perform the simulation\n",
    "        sim.simulate(\n",
    "            team_count=TEAM_COUNT,\n",
    "            heuristic=heuristic,\n",
    "            matches_output=data,\n",
    "            matches_output_heuristic=data,\n",
    "        )\n",
    "\n",
    "        # create the ranking\n",
    "        utils.run(data, utils.METHOD_CMM, ranks)\n",
    "\n",
    "        # read the ranking & analyze the data\n",
    "        ranking = read_sim_ranking(ranks)\n",
    "        analyzed_data = utils.analyze_data(data)\n",
    "        srt = ranking.sort_values(\"rating\", ascending=False)\n",
    "        results.loc[i*h_i] = [\n",
    "            # rating\n",
    "            ranking.set_index(\"team\").at[SELECTED, \"rating\"],\n",
    "            # ranking\n",
    "            srt[srt[\"team\"] == SELECTED].index[0],\n",
    "            # wins\n",
    "            analyzed_data.set_index(\"team\").loc[SELECTED].values[2],\n",
    "            # heuristic\n",
    "            h[\"name\"]\n",
    "        ]\n",
    "\n",
    "print(\"Done!\")"
   ]
  },
  {
   "cell_type": "code",
   "execution_count": 54,
   "metadata": {},
   "outputs": [
    {
     "data": {
      "text/plain": [
       "<matplotlib.axes._subplots.AxesSubplot at 0x7f727298f400>"
      ]
     },
     "execution_count": 54,
     "metadata": {},
     "output_type": "execute_result"
    },
    {
     "data": {
      "image/png": "[encoded data removed]",
      "text/plain": [
       "<Figure size 432x288 with 1 Axes>"
      ]
     },
     "metadata": {
      "needs_background": "light"
     },
     "output_type": "display_data"
    }
   ],
   "source": [
    "sns.scatterplot(data=results, x=\"wins\", y=\"ranking\", hue=\"heuristic\")"
   ]
  },
  {
   "cell_type": "code",
   "execution_count": 14,
   "metadata": {},
   "outputs": [
    {
     "name": "stderr",
     "output_type": "stream",
     "text": [
      "100%|██████████| 20/20 [00:00<00:00, 23.36it/s]\n"
     ]
    },
    {
     "data": {
      "text/html": [
       "<div>\n",
       "<style scoped>\n",
       "    .dataframe tbody tr th:only-of-type {\n",
       "        vertical-align: middle;\n",
       "    }\n",
       "\n",
       "    .dataframe tbody tr th {\n",
       "        vertical-align: top;\n",
       "    }\n",
       "\n",
       "    .dataframe thead th {\n",
       "        text-align: right;\n",
       "    }\n",
       "</style>\n",
       "<table border=\"1\" class=\"dataframe\">\n",
       "  <thead>\n",
       "    <tr style=\"text-align: right;\">\n",
       "      <th></th>\n",
       "      <th>rating</th>\n",
       "      <th>power</th>\n",
       "      <th>team</th>\n",
       "      <th>week</th>\n",
       "    </tr>\n",
       "  </thead>\n",
       "  <tbody>\n",
       "    <tr>\n",
       "      <th>0</th>\n",
       "      <td>0.152688</td>\n",
       "      <td>10.0</td>\n",
       "      <td>1</td>\n",
       "      <td>1</td>\n",
       "    </tr>\n",
       "    <tr>\n",
       "      <th>1</th>\n",
       "      <td>0.186022</td>\n",
       "      <td>20.0</td>\n",
       "      <td>2</td>\n",
       "      <td>1</td>\n",
       "    </tr>\n",
       "    <tr>\n",
       "      <th>2</th>\n",
       "      <td>0.370968</td>\n",
       "      <td>30.0</td>\n",
       "      <td>3</td>\n",
       "      <td>1</td>\n",
       "    </tr>\n",
       "    <tr>\n",
       "      <th>3</th>\n",
       "      <td>0.516129</td>\n",
       "      <td>40.0</td>\n",
       "      <td>4</td>\n",
       "      <td>1</td>\n",
       "    </tr>\n",
       "    <tr>\n",
       "      <th>4</th>\n",
       "      <td>0.564516</td>\n",
       "      <td>50.0</td>\n",
       "      <td>5</td>\n",
       "      <td>1</td>\n",
       "    </tr>\n",
       "    <tr>\n",
       "      <th>...</th>\n",
       "      <td>...</td>\n",
       "      <td>...</td>\n",
       "      <td>...</td>\n",
       "      <td>...</td>\n",
       "    </tr>\n",
       "    <tr>\n",
       "      <th>5</th>\n",
       "      <td>0.599002</td>\n",
       "      <td>60.0</td>\n",
       "      <td>6</td>\n",
       "      <td>20</td>\n",
       "    </tr>\n",
       "    <tr>\n",
       "      <th>6</th>\n",
       "      <td>0.624792</td>\n",
       "      <td>70.0</td>\n",
       "      <td>7</td>\n",
       "      <td>20</td>\n",
       "    </tr>\n",
       "    <tr>\n",
       "      <th>7</th>\n",
       "      <td>0.659734</td>\n",
       "      <td>80.0</td>\n",
       "      <td>8</td>\n",
       "      <td>20</td>\n",
       "    </tr>\n",
       "    <tr>\n",
       "      <th>8</th>\n",
       "      <td>0.690516</td>\n",
       "      <td>90.0</td>\n",
       "      <td>9</td>\n",
       "      <td>20</td>\n",
       "    </tr>\n",
       "    <tr>\n",
       "      <th>9</th>\n",
       "      <td>0.722962</td>\n",
       "      <td>100.0</td>\n",
       "      <td>10</td>\n",
       "      <td>20</td>\n",
       "    </tr>\n",
       "  </tbody>\n",
       "</table>\n",
       "<p>200 rows × 4 columns</p>\n",
       "</div>"
      ],
      "text/plain": [
       "      rating  power  team  week\n",
       "0   0.152688   10.0     1     1\n",
       "1   0.186022   20.0     2     1\n",
       "2   0.370968   30.0     3     1\n",
       "3   0.516129   40.0     4     1\n",
       "4   0.564516   50.0     5     1\n",
       "..       ...    ...   ...   ...\n",
       "5   0.599002   60.0     6    20\n",
       "6   0.624792   70.0     7    20\n",
       "7   0.659734   80.0     8    20\n",
       "8   0.690516   90.0     9    20\n",
       "9   0.722962  100.0    10    20\n",
       "\n",
       "[200 rows x 4 columns]"
      ]
     },
     "execution_count": 14,
     "metadata": {},
     "output_type": "execute_result"
    }
   ],
   "source": [
    "# correr progresivamente\n",
    "WEEKS = 20\n",
    "TEAMS = 10\n",
    "sim.simulate(team_count=TEAMS, weeks=WEEKS)\n",
    "data = utils.read_mn(DATA).set_index(\"date\")\n",
    "\n",
    "ratings_by_week = pd.DataFrame()\n",
    "\n",
    "for week in tqdm(range(1, WEEKS+1)):\n",
    "    data_til_week = DATA + f\".week{week}\"\n",
    "    spliced = data.loc[:week]\n",
    "    with open(data_til_week, \"w\") as f:\n",
    "        print(f\"{TEAMS} {spliced.shape[0]}\", file=f)\n",
    "\n",
    "    spliced.to_csv(data_til_week, sep=\" \", mode=\"a\", header=False)\n",
    "    \n",
    "    utils.run(data_til_week, utils.METHOD_CMM)\n",
    "    ranking = read_sim_ranking(data_til_week+utils.METHOD_CMM+utils.OUT)\n",
    "    ranking[\"week\"] = week\n",
    "    ratings_by_week.append(ranking)\n",
    "\n",
    "ratings_by_week"
   ]
  },
  {
   "cell_type": "code",
   "execution_count": 15,
   "metadata": {},
   "outputs": [
    {
     "data": {
      "text/plain": [
       "<matplotlib.axes._subplots.AxesSubplot at 0x7f72793862e8>"
      ]
     },
     "execution_count": 15,
     "metadata": {},
     "output_type": "execute_result"
    },
    {
     "data": {
      "image/png": "[encoded data removed]",
      "text/plain": [
       "<Figure size 720x720 with 1 Axes>"
      ]
     },
     "metadata": {
      "needs_background": "light"
     },
     "output_type": "display_data"
    }
   ],
   "source": [
    "fig, axs = plt.subplots(1, 1, figsize=(10, 10)) \n",
    "sns.lineplot(data=ratings_by_week, x=\"week\", y=\"rating\", hue=\"team\")"
   ]
  },
  {
   "cell_type": "code",
   "execution_count": null,
   "metadata": {},
   "outputs": [],
   "source": [
    "df = pd.DataFrame({\n",
    "    \"week\": [1, 1, 2, 2, 3, 3],\n",
    "    \"other\": [2, 2, 4, 4, 5, 5],\n",
    "})\n",
    "\n",
    "df.set_index(\"week\").loc[:3]\n",
    "\n",
    "other = pd.DataFrame({\"other\": [2, 2, 4, 4, 5, 5]})\n",
    "other[\"week\"] = 4\n",
    "cc = pd.concat([df, other])\n",
    "cc"
   ]
  },
  {
   "cell_type": "code",
   "execution_count": null,
   "metadata": {},
   "outputs": [],
   "source": [
    "def heuristic(games: List[simulator.Game]) -> List[simulator.Game]:\n",
    "    # calculas cmm\n",
    "    # run()\n",
    "    # modificas los partididos segun tu heuristica\n",
    "    # run()\n",
    "    # ves el ranking\n",
    "    "
   ]
  }
 ],
 "metadata": {
  "kernelspec": {
   "display_name": "Python 3",
   "language": "python",
   "name": "python3"
  },
  "language_info": {
   "codemirror_mode": {
    "name": "ipython",
    "version": 3
   },
   "file_extension": ".py",
   "mimetype": "text/x-python",
   "name": "python",
   "nbconvert_exporter": "python",
   "pygments_lexer": "ipython3",
   "version": "3.6.9"
  }
 },
 "nbformat": 4,
 "nbformat_minor": 4
}
