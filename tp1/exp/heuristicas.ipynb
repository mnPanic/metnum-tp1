{
 "cells": [
  {
   "cell_type": "markdown",
   "metadata": {},
   "source": [
    "# Heuristicas"
   ]
  },
  {
   "cell_type": "code",
   "execution_count": 3,
   "metadata": {},
   "outputs": [],
   "source": [
    "import utils\n",
    "import pandas as pd\n",
    "import seaborn as sns\n",
    "\n",
    "DATA = \"../data/sim.dat\"\n",
    "POWERS = \"../data/sim_powers.tsv\""
   ]
  },
  {
   "cell_type": "code",
   "execution_count": 4,
   "metadata": {},
   "outputs": [],
   "source": [
    "def read_powers() -> pd.DataFrame:\n",
    "    return pd.read_csv(\n",
    "        POWERS,\n",
    "        sep=' ',\n",
    "        header=None,\n",
    "        names=[\"team\", \"power\"],\n",
    "    )\n",
    "\n",
    "def read_sim_ranking(method: str) -> pd.DataFrame:\n",
    "    powers = read_powers()\n",
    "    ranking = utils.read_ranking(DATA+method+utils.OUT)\n",
    "    ranking[\"power\"] = (ranking.index + 1).map(powers.set_index(\"team\")[\"power\"])\n",
    "    ranking[\"team\"] = (ranking.index+1)\n",
    "    return ranking"
   ]
  },
  {
   "cell_type": "code",
   "execution_count": null,
   "metadata": {},
   "outputs": [],
   "source": [
    "utils.run(DATA, utils.METHOD_CMM)\n",
    "utils.run(DATA, utils.METHOD_WP)"
   ]
  },
  {
   "cell_type": "code",
   "execution_count": null,
   "metadata": {},
   "outputs": [],
   "source": [
    "read_sim_ranking(utils.METHOD_WP).sort_values(\"rating\", ascending=False)"
   ]
  },
  {
   "cell_type": "code",
   "execution_count": null,
   "metadata": {},
   "outputs": [],
   "source": [
    "utils.analyze_data(DATA)"
   ]
  },
  {
   "cell_type": "code",
   "execution_count": 5,
   "metadata": {},
   "outputs": [
    {
     "name": "stdout",
     "output_type": "stream",
     "text": [
      "team_count: 50\n"
     ]
    },
    {
     "data": {
      "text/html": [
       "<div>\n",
       "<style scoped>\n",
       "    .dataframe tbody tr th:only-of-type {\n",
       "        vertical-align: middle;\n",
       "    }\n",
       "\n",
       "    .dataframe tbody tr th {\n",
       "        vertical-align: top;\n",
       "    }\n",
       "\n",
       "    .dataframe thead th {\n",
       "        text-align: right;\n",
       "    }\n",
       "</style>\n",
       "<table border=\"1\" class=\"dataframe\">\n",
       "  <thead>\n",
       "    <tr style=\"text-align: right;\">\n",
       "      <th></th>\n",
       "      <th>rating</th>\n",
       "      <th>power</th>\n",
       "    </tr>\n",
       "    <tr>\n",
       "      <th>team</th>\n",
       "      <th></th>\n",
       "      <th></th>\n",
       "    </tr>\n",
       "  </thead>\n",
       "  <tbody>\n",
       "    <tr>\n",
       "      <th>10</th>\n",
       "      <td>0.888889</td>\n",
       "      <td>20.0</td>\n",
       "    </tr>\n",
       "    <tr>\n",
       "      <th>9</th>\n",
       "      <td>0.870370</td>\n",
       "      <td>18.0</td>\n",
       "    </tr>\n",
       "    <tr>\n",
       "      <th>7</th>\n",
       "      <td>0.740741</td>\n",
       "      <td>14.0</td>\n",
       "    </tr>\n",
       "    <tr>\n",
       "      <th>8</th>\n",
       "      <td>0.703704</td>\n",
       "      <td>16.0</td>\n",
       "    </tr>\n",
       "    <tr>\n",
       "      <th>6</th>\n",
       "      <td>0.537037</td>\n",
       "      <td>12.0</td>\n",
       "    </tr>\n",
       "    <tr>\n",
       "      <th>5</th>\n",
       "      <td>0.481481</td>\n",
       "      <td>10.0</td>\n",
       "    </tr>\n",
       "    <tr>\n",
       "      <th>4</th>\n",
       "      <td>0.314815</td>\n",
       "      <td>8.0</td>\n",
       "    </tr>\n",
       "    <tr>\n",
       "      <th>3</th>\n",
       "      <td>0.259259</td>\n",
       "      <td>6.0</td>\n",
       "    </tr>\n",
       "    <tr>\n",
       "      <th>2</th>\n",
       "      <td>0.185185</td>\n",
       "      <td>4.0</td>\n",
       "    </tr>\n",
       "    <tr>\n",
       "      <th>1</th>\n",
       "      <td>0.018519</td>\n",
       "      <td>2.0</td>\n",
       "    </tr>\n",
       "  </tbody>\n",
       "</table>\n",
       "</div>"
      ],
      "text/plain": [
       "        rating  power\n",
       "team                 \n",
       "10    0.888889   20.0\n",
       "9     0.870370   18.0\n",
       "7     0.740741   14.0\n",
       "8     0.703704   16.0\n",
       "6     0.537037   12.0\n",
       "5     0.481481   10.0\n",
       "4     0.314815    8.0\n",
       "3     0.259259    6.0\n",
       "2     0.185185    4.0\n",
       "1     0.018519    2.0"
      ]
     },
     "execution_count": 5,
     "metadata": {},
     "output_type": "execute_result"
    }
   ],
   "source": [
    "import simulator\n",
    "\n",
    "TEAM = 20\n",
    "ITER = 500\n",
    "ratings = []\n",
    "\n",
    "#for i in range(ITER):\n",
    "#if i % 100 == 0: print(i)\n",
    "\n",
    "simulator.simulate(team_count=50)\n",
    "utils.run(DATA, utils.METHOD_CMM)\n",
    "ranking = read_sim_ranking(utils.METHOD_WP).sort_values(\"rating\", ascending=False)\n",
    "#ratings.append(ranking.set_index(\"team\").at[TEAM, \"rating\"])\n",
    "ranking.set_index(\"team\")\n",
    "#sns.boxplot(ratings)"
   ]
  },
  {
   "cell_type": "code",
   "execution_count": null,
   "metadata": {},
   "outputs": [],
   "source": [
    "def heuristic(games: List[simulator.Game]) -> List[simulator.Game]:\n",
    "    # calculas cmm\n",
    "    # run()\n",
    "    # modificas los partididos segun tu heuristica\n",
    "    # run()\n",
    "    # ves el ranking\n",
    "    "
   ]
  }
 ],
 "metadata": {
  "kernelspec": {
   "display_name": "Python 3",
   "language": "python",
   "name": "python3"
  },
  "language_info": {
   "codemirror_mode": {
    "name": "ipython",
    "version": 3
   },
   "file_extension": ".py",
   "mimetype": "text/x-python",
   "name": "python",
   "nbconvert_exporter": "python",
   "pygments_lexer": "ipython3",
   "version": "3.6.9"
  }
 },
 "nbformat": 4,
 "nbformat_minor": 4
}
