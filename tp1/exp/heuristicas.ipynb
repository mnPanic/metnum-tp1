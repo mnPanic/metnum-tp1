{
 "cells": [
  {
   "cell_type": "markdown",
   "metadata": {},
   "source": [
    "# Heuristicas"
   ]
  },
  {
   "cell_type": "code",
   "execution_count": 2,
   "metadata": {},
   "outputs": [],
   "source": [
    "import utils\n",
    "import pandas as pd\n",
    "import seaborn as sns\n",
    "\n",
    "DATA = \"../data/sim.dat\"\n",
    "POWERS = \"../data/sim_powers.tsv\""
   ]
  },
  {
   "cell_type": "code",
   "execution_count": 3,
   "metadata": {},
   "outputs": [],
   "source": [
    "def read_powers() -> pd.DataFrame:\n",
    "    return pd.read_csv(\n",
    "        POWERS,\n",
    "        sep=' ',\n",
    "        header=None,\n",
    "        names=[\"team\", \"power\"],\n",
    "    )\n",
    "\n",
    "def read_sim_ranking(method: str):\n",
    "    powers = read_powers()\n",
    "    ranking = utils.read_ranking(DATA+method+utils.OUT)\n",
    "    ranking[\"power\"] = (ranking.index + 1).map(powers.set_index(\"team\")[\"power\"])\n",
    "    ranking[\"team\"] = (ranking.index+1)\n",
    "    return ranking"
   ]
  },
  {
   "cell_type": "code",
   "execution_count": null,
   "metadata": {},
   "outputs": [],
   "source": [
    "utils.run(DATA, utils.METHOD_CMM)\n",
    "utils.run(DATA, utils.METHOD_WP)"
   ]
  },
  {
   "cell_type": "code",
   "execution_count": null,
   "metadata": {},
   "outputs": [],
   "source": [
    "read_sim_ranking(utils.METHOD_CMM).sort_values(\"rating\", ascending=False)"
   ]
  },
  {
   "cell_type": "code",
   "execution_count": null,
   "metadata": {},
   "outputs": [],
   "source": [
    "utils.analyze_data(DATA)"
   ]
  },
  {
   "cell_type": "code",
   "execution_count": 14,
   "metadata": {},
   "outputs": [
    {
     "name": "stderr",
     "output_type": "stream",
     "text": [
      "100%|██████████| 100/100 [00:16<00:00,  6.20it/s]\n"
     ]
    }
   ],
   "source": [
    "# iterar e imprimir boxplot\n",
    "\n",
    "import simulator\n",
    "import time\n",
    "from tqdm import tqdm\n",
    "\n",
    "TEAM = 20\n",
    "ITER = 100\n",
    "\n",
    "results = pd.DataFrame(columns=[\"rating\", \"wins\"])\n",
    "\n",
    "for i in tqdm(range(ITER)):\n",
    "    simulator.simulate(team_count=20)\n",
    "    utils.run(DATA, utils.METHOD_CMM)\n",
    "    ranking = read_sim_ranking(utils.METHOD_CMM)\n",
    "    analyzed_data = utils.analyze_data(DATA)\n",
    "    results.loc[i] = [\n",
    "        ranking.set_index(\"team\").at[TEAM, \"rating\"],\n",
    "        analyzed_data.set_index(\"team\").loc[TEAM].values[2] # wins\n",
    "    ]\n",
    "\n",
    "print(\"Done!\")"
   ]
  },
  {
   "cell_type": "code",
   "execution_count": 18,
   "metadata": {},
   "outputs": [
    {
     "data": {
      "text/plain": [
       "<matplotlib.axes._subplots.AxesSubplot at 0x7f05ac70c6a0>"
      ]
     },
     "execution_count": 18,
     "metadata": {},
     "output_type": "execute_result"
    },
    {
     "data": {
      "image/png": "[encoded data removed]",
      "text/plain": [
       "<Figure size 432x288 with 1 Axes>"
      ]
     },
     "metadata": {
      "needs_background": "light"
     },
     "output_type": "display_data"
    }
   ],
   "source": [
    "sns.scatterplot(results[\"wins\"], results[\"rating\"])"
   ]
  },
  {
   "cell_type": "code",
   "execution_count": null,
   "metadata": {},
   "outputs": [],
   "source": [
    "def heuristic(games: List[simulator.Game]) -> List[simulator.Game]:\n",
    "    # calculas cmm\n",
    "    # run()\n",
    "    # modificas los partididos segun tu heuristica\n",
    "    # run()\n",
    "    # ves el ranking\n",
    "    "
   ]
  }
 ],
 "metadata": {
  "kernelspec": {
   "display_name": "Python 3",
   "language": "python",
   "name": "python3"
  },
  "language_info": {
   "codemirror_mode": {
    "name": "ipython",
    "version": 3
   },
   "file_extension": ".py",
   "mimetype": "text/x-python",
   "name": "python",
   "nbconvert_exporter": "python",
   "pygments_lexer": "ipython3",
   "version": "3.6.9"
  }
 },
 "nbformat": 4,
 "nbformat_minor": 4
}
