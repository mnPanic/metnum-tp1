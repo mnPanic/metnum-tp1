{
 "cells": [
  {
   "cell_type": "markdown",
   "metadata": {},
   "source": [
    "# Heuristicas"
   ]
  },
  {
   "cell_type": "code",
   "execution_count": 2,
   "metadata": {},
   "outputs": [],
   "source": [
    "import utils\n",
    "import pandas as pd\n",
    "import seaborn as sns\n",
    "\n",
    "DATA = \"../data/sim.dat\"\n",
    "POWERS = \"../data/sim_powers.tsv\""
   ]
  },
  {
   "cell_type": "code",
   "execution_count": 4,
   "metadata": {},
   "outputs": [],
   "source": [
    "def read_powers() -> pd.DataFrame:\n",
    "    return pd.read_csv(\n",
    "        POWERS,\n",
    "        sep=' ',\n",
    "        header=None,\n",
    "        names=[\"team\", \"power\"],\n",
    "    )\n",
    "\n",
    "def read_sim_ranking(method: str):\n",
    "    powers = read_powers()\n",
    "    ranking = utils.read_ranking(DATA+method+utils.OUT)\n",
    "    ranking[\"power\"] = (ranking.index + 1).map(powers.set_index(\"team\")[\"power\"])\n",
    "    ranking[\"team\"] = (ranking.index+1)\n",
    "    return ranking"
   ]
  },
  {
   "cell_type": "code",
   "execution_count": null,
   "metadata": {},
   "outputs": [],
   "source": [
    "utils.run(DATA, utils.METHOD_CMM)\n",
    "utils.run(DATA, utils.METHOD_WP)"
   ]
  },
  {
   "cell_type": "code",
   "execution_count": null,
   "metadata": {},
   "outputs": [],
   "source": [
    "read_sim_ranking(utils.METHOD_CMM).sort_values(\"rating\", ascending=False)"
   ]
  },
  {
   "cell_type": "code",
   "execution_count": null,
   "metadata": {},
   "outputs": [],
   "source": [
    "utils.analyze_data(DATA)"
   ]
  },
  {
   "cell_type": "code",
   "execution_count": 13,
   "metadata": {},
   "outputs": [
    {
     "name": "stdout",
     "output_type": "stream",
     "text": [
      "0\n",
      "100\n",
      "200\n",
      "300\n",
      "400\n"
     ]
    },
    {
     "data": {
      "text/plain": [
       "<matplotlib.axes._subplots.AxesSubplot at 0x7fe74f1fb198>"
      ]
     },
     "execution_count": 13,
     "metadata": {},
     "output_type": "execute_result"
    },
    {
     "data": {
      "image/png": "[encoded data removed]",
      "text/plain": [
       "<Figure size 432x288 with 1 Axes>"
      ]
     },
     "metadata": {
      "needs_background": "light"
     },
     "output_type": "display_data"
    }
   ],
   "source": [
    "# iterar e imprimir boxplot\n",
    "\n",
    "import simulator\n",
    "import time\n",
    "\n",
    "TEAM = 20\n",
    "ITER = 500\n",
    "ratings = []\n",
    "\n",
    "for i in range(ITER):\n",
    "    if i % 100 == 0: print(i)\n",
    "    simulator.simulate(team_count=20)\n",
    "    utils.run(DATA, utils.METHOD_CMM)\n",
    "    ranking = read_sim_ranking(utils.METHOD_CMM).sort_values(\"rating\", ascending=False)\n",
    "    rating = ranking.set_index(\"team\").at[TEAM, \"rating\"]\n",
    "    ratings.append(rating)\n",
    "\n",
    "sns.boxplot(ratings, orient=\"v\")"
   ]
  },
  {
   "cell_type": "code",
   "execution_count": null,
   "metadata": {},
   "outputs": [],
   "source": [
    "def heuristic(games: List[simulator.Game]) -> List[simulator.Game]:\n",
    "    # calculas cmm\n",
    "    # run()\n",
    "    # modificas los partididos segun tu heuristica\n",
    "    # run()\n",
    "    # ves el ranking\n",
    "    "
   ]
  }
 ],
 "metadata": {
  "kernelspec": {
   "display_name": "Python 3",
   "language": "python",
   "name": "python3"
  },
  "language_info": {
   "codemirror_mode": {
    "name": "ipython",
    "version": 3
   },
   "file_extension": ".py",
   "mimetype": "text/x-python",
   "name": "python",
   "nbconvert_exporter": "python",
   "pygments_lexer": "ipython3",
   "version": "3.6.9"
  }
 },
 "nbformat": 4,
 "nbformat_minor": 4
}
